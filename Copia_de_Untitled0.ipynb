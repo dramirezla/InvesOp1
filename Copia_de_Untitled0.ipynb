{
  "nbformat": 4,
  "nbformat_minor": 0,
  "metadata": {
    "colab": {
      "provenance": [],
      "authorship_tag": "ABX9TyOSC4YRjGS2u4hlg15qcDxD",
      "include_colab_link": true
    },
    "kernelspec": {
      "name": "python3",
      "display_name": "Python 3"
    },
    "language_info": {
      "name": "python"
    }
  },
  "cells": [
    {
      "cell_type": "markdown",
      "metadata": {
        "id": "view-in-github",
        "colab_type": "text"
      },
      "source": [
        "<a href=\"https://colab.research.google.com/github/dramirezla/InvesOp1/blob/main/Copia_de_Untitled0.ipynb\" target=\"_parent\"><img src=\"https://colab.research.google.com/assets/colab-badge.svg\" alt=\"Open In Colab\"/></a>"
      ]
    },
    {
      "cell_type": "code",
      "execution_count": null,
      "metadata": {
        "id": "xjDpBb_ocyvR",
        "outputId": "2216294a-5220-4ae9-cffd-0abb3bf95ca0",
        "colab": {
          "base_uri": "https://localhost:8080/"
        }
      },
      "outputs": [
        {
          "output_type": "stream",
          "name": "stdout",
          "text": [
            "hola mundo\n"
          ]
        }
      ],
      "source": [
        "print(\"hola mundo\")\n",
        "\n",
        "#claro que si"
      ]
    },
    {
      "cell_type": "markdown",
      "source": [
        "segundo"
      ],
      "metadata": {
        "id": "Kd1oPocSl8M3"
      }
    },
    {
      "cell_type": "code",
      "source": [
        "print(\"MONESY\")"
      ],
      "metadata": {
        "colab": {
          "base_uri": "https://localhost:8080/"
        },
        "id": "7lTb4iUql-O2",
        "outputId": "d0528d07-b14a-44c5-da23-066fbaeafd73"
      },
      "execution_count": 1,
      "outputs": [
        {
          "output_type": "stream",
          "name": "stdout",
          "text": [
            "MONESY\n"
          ]
        }
      ]
    }
  ]
}